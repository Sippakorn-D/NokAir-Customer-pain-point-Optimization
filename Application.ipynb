{
  "cells": [
    {
      "cell_type": "markdown",
      "metadata": {},
      "source": [
        "# M/M/1 Queueing Model Function"
      ]
    },
    {
      "cell_type": "code",
      "execution_count": 1,
      "metadata": {},
      "outputs": [],
      "source": [
        "# Function to calculate M/M/1 metrics\n",
        "def mm1_metrics(lambda_rate, mu_rate):\n",
        "    rho = lambda_rate / mu_rate\n",
        "    if rho >= 1:\n",
        "        return \"ระบบล้น: λ ≥ μ\"\n",
        "\n",
        "    L = rho / (1 - rho)\n",
        "    Lq = rho**2 / (1 - rho)\n",
        "    W = 1 / (mu_rate - lambda_rate)          # Time in system (hours)\n",
        "    Wq = lambda_rate / (mu_rate * (mu_rate - lambda_rate))  # Time waiting in queue (hours)\n",
        "\n",
        "    return {\n",
        "        \"Utilization (ρ)\": round(rho, 3),\n",
        "        \"Avg. number in system (L)\": round(L, 3),\n",
        "        \"Avg. number in queue (Lq)\": round(Lq, 3),\n",
        "        \"Avg. time in system (W)\": round(W * 60, 2),   # Convert to minutes\n",
        "        \"Avg. waiting time in queue (Wq)\": round(Wq * 60, 2)  # Convert to minutes\n",
        "    }"
      ]
    },
    {
      "cell_type": "markdown",
      "metadata": {},
      "source": [
        "# Find μ such that RT ≤ target_RT_minutes"
      ]
    },
    {
      "cell_type": "code",
      "execution_count": 2,
      "metadata": {},
      "outputs": [],
      "source": [
        "# Function to find μ such that RT ≤ target_RT_minutes\n",
        "def find_mu(lambda_rate, target_RT_minutes):\n",
        "    target_RT_hours = target_RT_minutes / 60\n",
        "    mu = lambda_rate + 0.01\n",
        "    while True:\n",
        "        W = 1 / (mu - lambda_rate)\n",
        "        if W <= target_RT_hours:\n",
        "            return round(mu, 2)\n",
        "        mu += 0.01"
      ]
    },
    {
      "cell_type": "markdown",
      "metadata": {},
      "source": [
        "# Example Case"
      ]
    },
    {
      "cell_type": "code",
      "execution_count": 3,
      "metadata": {},
      "outputs": [
        {
          "name": "stdout",
          "output_type": "stream",
          "text": [
            "✅ want μ ≥ 12.01 cases/hour For RT ≤ 10 minutes\n",
            "\n",
            "Utilization (ρ): 0.5\n",
            "Avg. number in system (L): 0.998\n",
            "Avg. number in queue (Lq): 0.499\n",
            "Avg. time in system (W): 9.98\n",
            "Avg. waiting time in queue (Wq): 4.99\n"
          ]
        }
      ],
      "source": [
        "# Example Case: λ = 6 cases/hour, target RT ≤ 10 minutes\n",
        "lambda_rate = 6\n",
        "target_RT = 10  # minutes\n",
        "\n",
        "mu_required = find_mu(lambda_rate, target_RT)\n",
        "result = mm1_metrics(lambda_rate, mu_required)\n",
        "\n",
        "print(f\"✅ want μ ≥ {mu_required} cases/hour For RT ≤ {target_RT} minutes\\n\")\n",
        "for key, value in result.items():\n",
        "    print(f\"{key}: {value}\")"
      ]
    }
  ],
  "metadata": {
    "colab": {
      "provenance": []
    },
    "kernelspec": {
      "display_name": "Python (.venv)",
      "language": "python",
      "name": ".venv"
    },
    "language_info": {
      "codemirror_mode": {
        "name": "ipython",
        "version": 3
      },
      "file_extension": ".py",
      "mimetype": "text/x-python",
      "name": "python",
      "nbconvert_exporter": "python",
      "pygments_lexer": "ipython3",
      "version": "3.11.5"
    }
  },
  "nbformat": 4,
  "nbformat_minor": 0
}
